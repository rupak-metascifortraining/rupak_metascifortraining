{
  "nbformat": 4,
  "nbformat_minor": 0,
  "metadata": {
    "colab": {
      "provenance": [],
      "authorship_tag": "ABX9TyMDUY+QvT5ULbQoFKcxl89i",
      "include_colab_link": true
    },
    "kernelspec": {
      "name": "python3",
      "display_name": "Python 3"
    },
    "language_info": {
      "name": "python"
    }
  },
  "cells": [
    {
      "cell_type": "markdown",
      "metadata": {
        "id": "view-in-github",
        "colab_type": "text"
      },
      "source": [
        "<a href=\"https://colab.research.google.com/github/rupak-metascifortraining/rupak_metascifortraining/blob/main/07_03_2025_Assignment.ipynb\" target=\"_parent\"><img src=\"https://colab.research.google.com/assets/colab-badge.svg\" alt=\"Open In Colab\"/></a>"
      ]
    },
    {
      "cell_type": "markdown",
      "source": [
        "1.Write a Python program to check if a number is even or odd."
      ],
      "metadata": {
        "id": "WVBzdt8pcsOg"
      }
    },
    {
      "cell_type": "code",
      "execution_count": 1,
      "metadata": {
        "colab": {
          "base_uri": "https://localhost:8080/"
        },
        "id": "UD-gHl21YZ6d",
        "outputId": "211691b1-d619-4430-b9eb-cdf02a883dd3"
      },
      "outputs": [
        {
          "output_type": "stream",
          "name": "stdout",
          "text": [
            "Enter a number: 5\n",
            "5 is odd.\n"
          ]
        }
      ],
      "source": [
        "def check_even_odd(number):\n",
        "    if number % 2 == 0:\n",
        "        print(f\"{number} is even.\")\n",
        "    else:\n",
        "        print(f\"{number} is odd.\")\n",
        "\n",
        "\n",
        "num = int(input(\"Enter a number: \"))\n",
        "check_even_odd(num)\n"
      ]
    },
    {
      "cell_type": "markdown",
      "source": [
        "2.Write a Python function to reverse a string without using built-in functions."
      ],
      "metadata": {
        "id": "XDb0LjxYc2PY"
      }
    },
    {
      "cell_type": "code",
      "source": [
        "def reverse_string(s):\n",
        "    reversed_s = \"\"\n",
        "    for char in s:\n",
        "        reversed_s = char + reversed_s\n",
        "    return reversed_s\n",
        "\n",
        "\n",
        "input_str = input(\"Enter a string: \")\n",
        "print(\"Reversed string:\", reverse_string(input_str))\n"
      ],
      "metadata": {
        "colab": {
          "base_uri": "https://localhost:8080/"
        },
        "id": "tOAnN8-ibQwC",
        "outputId": "b7df26ab-fd02-4178-9e50-259182caca53"
      },
      "execution_count": 2,
      "outputs": [
        {
          "output_type": "stream",
          "name": "stdout",
          "text": [
            "Enter a string: alref\n",
            "Reversed string: ferla\n"
          ]
        }
      ]
    },
    {
      "cell_type": "markdown",
      "source": [
        "3.Write a Python program to find the largest number in a given list."
      ],
      "metadata": {
        "id": "2zTm7YiJc7tV"
      }
    },
    {
      "cell_type": "code",
      "source": [
        "def find_largest(numbers):\n",
        "    if not numbers:\n",
        "        return None\n",
        "\n",
        "    largest = numbers[0]\n",
        "    for num in numbers:\n",
        "        if num > largest:\n",
        "            largest = num\n",
        "    return largest\n",
        "\n",
        "numbers_list = [10, 45, 78, 23, 89, 55]\n",
        "largest_number = find_largest(numbers_list)\n",
        "print(\"The largest number is:\", largest_number)\n"
      ],
      "metadata": {
        "colab": {
          "base_uri": "https://localhost:8080/"
        },
        "id": "JVBwTsdCcap2",
        "outputId": "c3cfa50e-811a-42cb-f92b-29d6e91711a3"
      },
      "execution_count": 3,
      "outputs": [
        {
          "output_type": "stream",
          "name": "stdout",
          "text": [
            "The largest number is: 89\n"
          ]
        }
      ]
    },
    {
      "cell_type": "markdown",
      "source": [
        "4.Write a Python function to check if a given string is a palindrome."
      ],
      "metadata": {
        "id": "vHuTFy5MdBKJ"
      }
    },
    {
      "cell_type": "code",
      "source": [
        "def is_palindrome(s):\n",
        "    left = 0\n",
        "    right = len(s) - 1\n",
        "\n",
        "    while left < right:\n",
        "        if s[left] != s[right]:\n",
        "            return False\n",
        "        left += 1\n",
        "        right -= 1\n",
        "\n",
        "    return True\n",
        "\n",
        "\n",
        "input_str = input(\"Enter a string: \")\n",
        "if is_palindrome(input_str):\n",
        "    print(\"The string is a palindrome.\")\n",
        "else:\n",
        "    print(\"The string is not a palindrome.\")\n"
      ],
      "metadata": {
        "colab": {
          "base_uri": "https://localhost:8080/"
        },
        "id": "_IJRwrvgdESh",
        "outputId": "325ed704-473d-4c49-b75b-8a5d2f00cdec"
      },
      "execution_count": 4,
      "outputs": [
        {
          "output_type": "stream",
          "name": "stdout",
          "text": [
            "Enter a string: madam\n",
            "The string is a palindrome.\n"
          ]
        }
      ]
    },
    {
      "cell_type": "markdown",
      "source": [
        "5.Write a Python program to count the occurrences of each character in a given string."
      ],
      "metadata": {
        "id": "KqRBP3bOdUBk"
      }
    },
    {
      "cell_type": "code",
      "source": [
        "\n",
        "def count_characters(s):\n",
        "    char_count = {}\n",
        "\n",
        "    for char in s:\n",
        "        if char in char_count:\n",
        "            char_count[char] += 1\n",
        "        else:\n",
        "            char_count[char] = 1\n",
        "\n",
        "    return char_count\n",
        "\n",
        "\n",
        "input_str = input(\"Enter a string: \")\n",
        "char_counts = count_characters(input_str)\n",
        "\n",
        "for char, count in char_counts.items():\n",
        "    print(f\"'{char}': {count}\")\n"
      ],
      "metadata": {
        "colab": {
          "base_uri": "https://localhost:8080/"
        },
        "id": "_rJtvIpkdWds",
        "outputId": "8dc5dea7-4255-4a58-807b-14dfc4d1a82c"
      },
      "execution_count": 5,
      "outputs": [
        {
          "output_type": "stream",
          "name": "stdout",
          "text": [
            "Enter a string: hello\n",
            "'h': 1\n",
            "'e': 1\n",
            "'l': 2\n",
            "'o': 1\n"
          ]
        }
      ]
    },
    {
      "cell_type": "markdown",
      "source": [
        "**Object-Oriented Programming (OOP) Questions :**"
      ],
      "metadata": {
        "id": "81iPjY2edmzC"
      }
    },
    {
      "cell_type": "markdown",
      "source": [
        "1. What is the difference between a class and an object in Python?\n",
        "\n",
        "A class is a blueprint or template for creating objects. It defines the structure, variables, and methods that its objects will have. However, a class itself does not store data; it only defines how objects should behave.\n",
        "\n",
        "An object is an actual instance of a class, with its own unique values for the attributes defined by the class. When an object is created, memory is allocated to store its data.\n"
      ],
      "metadata": {
        "id": "CvddpCjudrGJ"
      }
    },
    {
      "cell_type": "markdown",
      "source": [
        "2. Explain the concept of inheritance with an example in Python.\n",
        "\n",
        "Inheritance is a mechanism in Object-Oriented Programming (OOP) that allows a new class to inherit attributes and methods from an existing class. This helps in code reuse and improves maintainability.\n",
        "\n",
        "Types of Inheritance in Python:\n",
        "Single Inheritance – One class inherits from another.\n",
        "Multiple Inheritance – A class inherits from multiple classes.\n",
        "Multilevel Inheritance – A class inherits from a derived class.\n",
        "Hierarchical Inheritance – Multiple classes inherit from the same parent class.\n",
        "Hybrid Inheritance – A combination of two or more types of inheritance."
      ],
      "metadata": {
        "id": "0C9h0SF2eGpO"
      }
    },
    {
      "cell_type": "markdown",
      "source": [
        "3. What is method overriding in Python? Provide an example.\n",
        "\n",
        "Method overriding is a feature in Object-Oriented Programming where a child class provides a specific implementation of a method that is already defined in its parent class. The method in the child class has the same name, parameters, and return type as in the parent class, but its behavior is modified."
      ],
      "metadata": {
        "id": "shBee7CveXvK"
      }
    },
    {
      "cell_type": "markdown",
      "source": [
        "4. What is the difference between an instance method, class method, and static method in Python?\n",
        "\n",
        " a.Instance Method :\n",
        "An instance method works with the instance of a class and can access or modify instance attributes. It always takes self as the first parameter, which represents the instance.\n",
        "\n",
        " b.Class Method : A class method works with class-level attributes instead of instance attributes. It takes cls as the first parameter, representing the class itself. It is defined using the @classmethod decorator.\n",
        "\n",
        " c.Static Method: A static method does not access instance or class attributes. It is used for independent utility functions inside a class. It does not take self or cls as a parameter and is defined using the @staticmethod decorator."
      ],
      "metadata": {
        "id": "bmAHRcSqfk3M"
      }
    },
    {
      "cell_type": "markdown",
      "source": [
        "5.Explain the significance of encapsulation in Python with an example.\n",
        "\n",
        "Encapsulation is one of the fundamental principles of Object-Oriented Programming (OOP). It refers to the concept of hiding data within a class and restricting direct access to it. This is done to protect object integrity by preventing unintended modification.\n",
        "\n",
        "In Python, encapsulation is implemented using access modifiers:\n",
        "\n",
        "Public – Accessible from anywhere.\n",
        "\n",
        "Protected  – Should be accessed only within the class and subclasses.\n",
        "\n",
        "Private (__attribute) – Cannot be accessed directly from outside the class."
      ],
      "metadata": {
        "id": "WYtn_gyHheU9"
      }
    }
  ]
}